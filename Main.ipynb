{
 "cells": [
  {
   "cell_type": "code",
   "execution_count": 1,
   "id": "22f6c395",
   "metadata": {},
   "outputs": [],
   "source": [
    "import numpy as np\n",
    "import matplotlib.pyplot as plt\n",
    "import sys\n",
    "import os\n",
    "import cv2\n",
    "from tqdm import tqdm\n",
    "\n",
    "from tensorflow.keras.preprocessing.image import ImageDataGenerator\n",
    "from tensorflow.keras.layers import Dropout, Flatten, Dense, Activation, Convolution2D, MaxPooling2D\n",
    "from tensorflow.keras import backend as K\n",
    "from tensorflow.keras import optimizers\n",
    "from tensorflow.keras.models import Sequential"
   ]
  },
  {
   "cell_type": "code",
   "execution_count": 4,
   "id": "bf6dcd0c",
   "metadata": {
    "scrolled": true
   },
   "outputs": [
    {
     "name": "stdout",
     "output_type": "stream",
     "text": [
      "Found 1634 images belonging to 8 classes.\n"
     ]
    }
   ],
   "source": [
    "training_dir = \"./CarneDataset/train\"\n",
    "\n",
    "CATEGORIES = [\"CLASS_01\",\"CLASS_02\",\"CLASS_03\",\"CLASS_04\",\"CLASS_05\",\"CLASS_06\",\"CLASS_07\",\"CLASS_08\"]\n",
    "\n",
    "\n",
    "training_data= ImageDataGenerator(\n",
    "    rotation_range=20,  \n",
    "    width_shift_range=0.1,\n",
    "    height_shift_range=0.1,\n",
    "    rescale=1. / 255,\n",
    "    shear_range=0.2,\n",
    "    zoom_range=0.2,\n",
    "    horizontal_flip=True)\n",
    "\n",
    "train = training_data.flow_from_directory(\n",
    "    training_dir,\n",
    "    target_size=(100, 100),\n",
    "    batch_size=10,\n",
    "    class_mode='categorical')\n"
   ]
  },
  {
   "cell_type": "code",
   "execution_count": 5,
   "id": "c10c4c3a",
   "metadata": {},
   "outputs": [
    {
     "name": "stdout",
     "output_type": "stream",
     "text": [
      "Found 810 images belonging to 8 classes.\n"
     ]
    }
   ],
   "source": [
    "test_dir = \"./CarneDataset/test\"\n",
    "\n",
    "test_data = ImageDataGenerator(\n",
    "    rotation_range=20,  \n",
    "    width_shift_range=0.1,  \n",
    "    height_shift_range=0.1,\n",
    "    rescale=1. / 255,\n",
    "    shear_range=0.2,\n",
    "    zoom_range=0.2,\n",
    "    horizontal_flip=True)\n",
    "\n",
    "\n",
    "validation = test_data.flow_from_directory(\n",
    "    test_dir,\n",
    "    target_size=(100, 100),\n",
    "    batch_size=10,\n",
    "    class_mode='categorical')"
   ]
  },
  {
   "cell_type": "code",
   "execution_count": 6,
   "id": "9c906fc6",
   "metadata": {},
   "outputs": [],
   "source": [
    "model = Sequential()\n",
    "\n",
    "# Primera capa de convolución\n",
    "model.add(Convolution2D(32, (3, 3), padding =\"same\", input_shape=(100, 100, 3), activation='relu'))\n",
    "# Capa de agrupación\n",
    "model.add(MaxPooling2D(pool_size=(2, 2)))\n",
    "\n",
    "# Segunda capa de convolución\n",
    "model.add(Convolution2D(64, (2, 2), padding =\"same\", activation='relu'))\n",
    "# Capa de agrupación\n",
    "model.add(MaxPooling2D(pool_size=(2, 2)))\n",
    "\n",
    "# Capa de aplanamiento\n",
    "model.add(Flatten())\n",
    "# Capa completamente conectada\n",
    "model.add(Dense(256, activation='relu'))\n",
    "\n",
    "# Capa de salida\n",
    "model.add(Dropout(0.5))\n",
    "model.add(Dense(8, activation='softmax'))\n",
    "\n",
    "model.compile(loss='categorical_crossentropy',\n",
    "            optimizer=optimizers.Adam(learning_rate=0.001),\n",
    "            metrics=['accuracy'])"
   ]
  },
  {
   "cell_type": "code",
   "execution_count": 7,
   "id": "23a757c3",
   "metadata": {
    "scrolled": false
   },
   "outputs": [
    {
     "name": "stdout",
     "output_type": "stream",
     "text": [
      "Epoch 1/10\n",
      "120/120 [==============================] - 37s 298ms/step - loss: 1.3958 - accuracy: 0.5600 - val_loss: 1.0192 - val_accuracy: 0.6525\n",
      "Epoch 2/10\n",
      "120/120 [==============================] - 35s 294ms/step - loss: 0.9671 - accuracy: 0.6709 - val_loss: 0.9128 - val_accuracy: 0.6388\n",
      "Epoch 3/10\n",
      "120/120 [==============================] - 43s 361ms/step - loss: 0.7795 - accuracy: 0.7300 - val_loss: 0.5902 - val_accuracy: 0.7912\n",
      "Epoch 4/10\n",
      "120/120 [==============================] - 43s 356ms/step - loss: 0.7009 - accuracy: 0.7517 - val_loss: 0.6350 - val_accuracy: 0.7900\n",
      "Epoch 5/10\n",
      "120/120 [==============================] - 36s 299ms/step - loss: 0.6438 - accuracy: 0.7708 - val_loss: 0.5541 - val_accuracy: 0.7812\n",
      "Epoch 6/10\n",
      "120/120 [==============================] - 36s 297ms/step - loss: 0.5536 - accuracy: 0.8007 - val_loss: 0.5488 - val_accuracy: 0.7775\n",
      "Epoch 7/10\n",
      "120/120 [==============================] - 36s 299ms/step - loss: 0.5150 - accuracy: 0.8099 - val_loss: 0.5698 - val_accuracy: 0.8012\n",
      "Epoch 8/10\n",
      "120/120 [==============================] - 34s 286ms/step - loss: 0.5019 - accuracy: 0.8224 - val_loss: 0.4996 - val_accuracy: 0.8288\n",
      "Epoch 9/10\n",
      "120/120 [==============================] - 35s 295ms/step - loss: 0.4358 - accuracy: 0.8434 - val_loss: 0.4685 - val_accuracy: 0.8400\n",
      "Epoch 10/10\n",
      "120/120 [==============================] - 36s 296ms/step - loss: 0.4794 - accuracy: 0.8300 - val_loss: 0.3969 - val_accuracy: 0.8700\n"
     ]
    }
   ],
   "source": [
    "summary = model.fit(\n",
    "    train,\n",
    "    steps_per_epoch=120, #steps for training\n",
    "    epochs=10, #epoch for training\n",
    "    validation_data=validation,\n",
    "    validation_steps=80 #steps for validate\n",
    " )"
   ]
  },
  {
   "cell_type": "code",
   "execution_count": 52,
   "id": "313a27d6",
   "metadata": {},
   "outputs": [
    {
     "name": "stdout",
     "output_type": "stream",
     "text": [
      "Accuracy: 0.8174\n",
      "Loss: 0.4810\n"
     ]
    }
   ],
   "source": [
    "accuracy = summary.history['accuracy']\n",
    "loss= summary.history['loss']\n",
    "print(f\"Accuracy: {accuracy[-1]:.4f}\")\n",
    "print(f\"Loss: {loss[-1]:.4f}\")"
   ]
  },
  {
   "cell_type": "code",
   "execution_count": 53,
   "id": "671eccf8",
   "metadata": {},
   "outputs": [],
   "source": [
    "\n",
    "#This part is just to save the result of the model and its weight\n",
    "\n",
    "model_dir = './exam_model/'\n",
    "if not os.path.exists(model_dir):\n",
    "  os.mkdir(model_dir)\n",
    "model.save('./exam_model/model.h5')\n",
    "model.save_weights('./exam_model/weights.h5')"
   ]
  }
 ],
 "metadata": {
  "kernelspec": {
   "display_name": "Python 3 (ipykernel)",
   "language": "python",
   "name": "python3"
  },
  "language_info": {
   "codemirror_mode": {
    "name": "ipython",
    "version": 3
   },
   "file_extension": ".py",
   "mimetype": "text/x-python",
   "name": "python",
   "nbconvert_exporter": "python",
   "pygments_lexer": "ipython3",
   "version": "3.10.9"
  },
  "varInspector": {
   "cols": {
    "lenName": 16,
    "lenType": 16,
    "lenVar": 40
   },
   "kernels_config": {
    "python": {
     "delete_cmd_postfix": "",
     "delete_cmd_prefix": "del ",
     "library": "var_list.py",
     "varRefreshCmd": "print(var_dic_list())"
    },
    "r": {
     "delete_cmd_postfix": ") ",
     "delete_cmd_prefix": "rm(",
     "library": "var_list.r",
     "varRefreshCmd": "cat(var_dic_list()) "
    }
   },
   "types_to_exclude": [
    "module",
    "function",
    "builtin_function_or_method",
    "instance",
    "_Feature"
   ],
   "window_display": false
  }
 },
 "nbformat": 4,
 "nbformat_minor": 5
}
