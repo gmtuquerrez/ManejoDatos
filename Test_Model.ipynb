{
 "cells": [
  {
   "cell_type": "code",
   "execution_count": 2,
   "id": "59ae3613",
   "metadata": {},
   "outputs": [],
   "source": [
    "import numpy as np\n",
    "from tensorflow.keras.preprocessing.image import load_img, img_to_array\n",
    "from tensorflow.keras.models import load_model"
   ]
  },
  {
   "cell_type": "code",
   "execution_count": 10,
   "id": "8883f38f",
   "metadata": {},
   "outputs": [],
   "source": [
    "\n",
    "width, height = 100, 100\n",
    "\n",
    "model = './exam_model/model.h5'\n",
    "weight_model = './exam_model/weights.h5'\n",
    "model = load_model(model) \n",
    "model.load_weights(weight_model)"
   ]
  },
  {
   "cell_type": "code",
   "execution_count": 28,
   "id": "26356a26",
   "metadata": {},
   "outputs": [],
   "source": [
    "def predict(file):\n",
    "  x = load_img(file, target_size=(width, height))\n",
    "  x = img_to_array(x)\n",
    "  x = np.expand_dims(x, axis=0)\n",
    "  array = model.predict(x)\n",
    "  result = array[0]\n",
    "  answer = np.argmax(result)\n",
    "  \n",
    "  match answer:\n",
    "        case 0:\n",
    "            print(\"CLASS 01\")\n",
    "\n",
    "        case 1:\n",
    "            print(\"CLASS 02\")\n",
    "\n",
    "        case 2:\n",
    "            print(\"CLASS 03\")\n",
    "\n",
    "        case 3:\n",
    "            print(\"CLASS 04\")\n",
    "\n",
    "        case 4:\n",
    "            print(\"CLASS 05\")\n",
    "\n",
    "        case 5:\n",
    "            print(\"CLASS 06\")\n",
    "\n",
    "        case 6:\n",
    "            print(\"CLASS 07\")\n",
    "\n",
    "        case 7:\n",
    "            print(\"CLASS 08\")\n",
    "\n",
    "\n"
   ]
  },
  {
   "cell_type": "code",
   "execution_count": 29,
   "id": "1cc8f4c7",
   "metadata": {},
   "outputs": [
    {
     "name": "stdout",
     "output_type": "stream",
     "text": [
      "1/1 [==============================] - 0s 15ms/step\n",
      "CLASS 04\n"
     ]
    }
   ],
   "source": [
    "predict(\"./CarneDataset/test/CLASS_06/14-CAPTURE_20220531_144002_978.png\")"
   ]
  }
 ],
 "metadata": {
  "kernelspec": {
   "display_name": "Python 3 (ipykernel)",
   "language": "python",
   "name": "python3"
  },
  "language_info": {
   "codemirror_mode": {
    "name": "ipython",
    "version": 3
   },
   "file_extension": ".py",
   "mimetype": "text/x-python",
   "name": "python",
   "nbconvert_exporter": "python",
   "pygments_lexer": "ipython3",
   "version": "3.10.9"
  },
  "varInspector": {
   "cols": {
    "lenName": 16,
    "lenType": 16,
    "lenVar": 40
   },
   "kernels_config": {
    "python": {
     "delete_cmd_postfix": "",
     "delete_cmd_prefix": "del ",
     "library": "var_list.py",
     "varRefreshCmd": "print(var_dic_list())"
    },
    "r": {
     "delete_cmd_postfix": ") ",
     "delete_cmd_prefix": "rm(",
     "library": "var_list.r",
     "varRefreshCmd": "cat(var_dic_list()) "
    }
   },
   "types_to_exclude": [
    "module",
    "function",
    "builtin_function_or_method",
    "instance",
    "_Feature"
   ],
   "window_display": false
  }
 },
 "nbformat": 4,
 "nbformat_minor": 5
}
